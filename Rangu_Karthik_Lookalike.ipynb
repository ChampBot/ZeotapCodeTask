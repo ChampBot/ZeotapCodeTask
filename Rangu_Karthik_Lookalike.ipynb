{
 "cells": [
  {
   "cell_type": "markdown",
   "metadata": {
    "id": "sFhJaEIhLmf6"
   },
   "source": [
    "Data Preprocessing"
   ]
  },
  {
   "cell_type": "code",
   "execution_count": null,
   "metadata": {
    "id": "QQXTZa38Le78"
   },
   "outputs": [],
   "source": [
    "#Importing required libraries\n",
    "import pandas as pd\n",
    "import numpy as np\n",
    "from sklearn.preprocessing import StandardScaler\n",
    "from sklearn.metrics.pairwise import cosine_similarity\n",
    "\n",
    "# Load the data\n",
    "customers = pd.read_csv('./Customers.csv')\n",
    "products = pd.read_csv('./Products.csv')\n",
    "transactions = pd.read_csv('./Transactions.csv')\n",
    "\n",
    "# Merge customer data with transaction history\n",
    "customer_transactions = transactions.groupby('CustomerID').agg({\n",
    "    'TotalValue': 'sum',\n",
    "    'ProductID': 'nunique',\n",
    "    'Quantity': 'sum',\n",
    "}).reset_index()\n",
    "\n",
    "customer_data = customers.merge(customer_transactions, on='CustomerID', how='left')\n",
    "\n",
    "# One-hot encode the Region column\n",
    "customer_data = pd.get_dummies(customer_data, columns=['Region'], drop_first=True)\n",
    "\n",
    "customer_data['SignupYear'] = pd.to_datetime(customer_data['SignupDate']).dt.year"
   ]
  },
  {
   "cell_type": "code",
   "execution_count": null,
   "metadata": {
    "colab": {
     "base_uri": "https://localhost:8080/"
    },
    "executionInfo": {
     "elapsed": 6,
     "status": "ok",
     "timestamp": 1737986570066,
     "user": {
      "displayName": "Prasuna Varagani",
      "userId": "10955219994401207685"
     },
     "user_tz": -330
    },
    "id": "g6J70Y4ACi7l",
    "outputId": "b8d4d17c-8dc9-44fa-b1f9-a570252283bc"
   },
   "outputs": [
    {
     "name": "stdout",
     "output_type": "stream",
     "text": [
      "TotalValue    1\n",
      "ProductID     1\n",
      "Quantity      1\n",
      "SignupYear    0\n",
      "dtype: int64\n"
     ]
    }
   ],
   "source": [
    "# Check for NaN values\n",
    "print(pd.isnull(customer_data[['TotalValue', 'ProductID', 'Quantity', 'SignupYear']]).sum())\n"
   ]
  },
  {
   "cell_type": "code",
   "execution_count": null,
   "metadata": {
    "id": "EnhImp0zC2a8"
   },
   "outputs": [],
   "source": [
    "# Drop rows with missing values\n",
    "customer_data.dropna(subset=['TotalValue', 'ProductID', 'Quantity'], inplace=True)"
   ]
  },
  {
   "cell_type": "code",
   "execution_count": null,
   "metadata": {
    "colab": {
     "base_uri": "https://localhost:8080/"
    },
    "executionInfo": {
     "elapsed": 6,
     "status": "ok",
     "timestamp": 1737986573405,
     "user": {
      "displayName": "Prasuna Varagani",
      "userId": "10955219994401207685"
     },
     "user_tz": -330
    },
    "id": "1qWNnPeJC8Za",
    "outputId": "bed9cd36-5627-4f12-84e6-595d967a200d"
   },
   "outputs": [
    {
     "name": "stdout",
     "output_type": "stream",
     "text": [
      "CustomerID              0\n",
      "CustomerName            0\n",
      "SignupDate              0\n",
      "TotalValue              0\n",
      "ProductID               0\n",
      "Quantity                0\n",
      "Region_Europe           0\n",
      "Region_North America    0\n",
      "Region_South America    0\n",
      "SignupYear              0\n",
      "dtype: int64\n"
     ]
    }
   ],
   "source": [
    "# Check if there are any missing values\n",
    "print(customer_data.isnull().sum())"
   ]
  },
  {
   "cell_type": "markdown",
   "metadata": {
    "id": "nGmkUbPfL5a3"
   },
   "source": [
    "Feature Scaling"
   ]
  },
  {
   "cell_type": "code",
   "execution_count": null,
   "metadata": {
    "id": "X7kAppgHDmZn"
   },
   "outputs": [],
   "source": [
    "# Scale features to bring them into the same range\n",
    "scaler = StandardScaler()\n",
    "scaled_features = scaler.fit_transform(customer_data[['TotalValue', 'ProductID', 'Quantity', 'SignupYear']])\n",
    "\n",
    "# Include the one-hot encoded region features\n",
    "final_features = np.hstack([scaled_features, customer_data[['Region_Europe', 'Region_North America','Region_South America']].values])"
   ]
  },
  {
   "cell_type": "markdown",
   "metadata": {
    "id": "23xVDotGMBIC"
   },
   "source": [
    "Calculate Similarity"
   ]
  },
  {
   "cell_type": "code",
   "execution_count": null,
   "metadata": {
    "id": "Asvz_HRkDp9Y"
   },
   "outputs": [],
   "source": [
    "# Compute cosine similarity between customers\n",
    "similarity_matrix = cosine_similarity(final_features)\n",
    "\n",
    "# Convert the similarity matrix into a DataFrame\n",
    "similarity_df = pd.DataFrame(similarity_matrix, index=customer_data['CustomerID'], columns=customer_data['CustomerID'])"
   ]
  },
  {
   "cell_type": "markdown",
   "metadata": {
    "id": "rVwT5kI9MHDC"
   },
   "source": [
    "Top 3 Lookalike Customers"
   ]
  },
  {
   "cell_type": "code",
   "execution_count": null,
   "metadata": {
    "colab": {
     "base_uri": "https://localhost:8080/",
     "height": 206
    },
    "executionInfo": {
     "elapsed": 448,
     "status": "ok",
     "timestamp": 1737986732131,
     "user": {
      "displayName": "Prasuna Varagani",
      "userId": "10955219994401207685"
     },
     "user_tz": -330
    },
    "id": "QA1kBGk_ElTX",
    "outputId": "f3857bfa-1333-4749-9862-18bc772f88bc"
   },
   "outputs": [
    {
     "data": {
      "application/vnd.google.colaboratory.intrinsic+json": {
       "summary": "{\n  \"name\": \"lookalike_df\",\n  \"rows\": 20,\n  \"fields\": [\n    {\n      \"column\": \"Lookalike_CustomerID_1\",\n      \"properties\": {\n        \"dtype\": \"string\",\n        \"num_unique_values\": 19,\n        \"samples\": [\n          \"C0174\",\n          \"C0048\",\n          \"C0087\"\n        ],\n        \"semantic_type\": \"\",\n        \"description\": \"\"\n      }\n    },\n    {\n      \"column\": \"Similarity_Score_1\",\n      \"properties\": {\n        \"dtype\": \"number\",\n        \"std\": 0.03108676642438152,\n        \"min\": 0.888380011494938,\n        \"max\": 0.9972667616609748,\n        \"num_unique_values\": 20,\n        \"samples\": [\n          0.9882579188025896,\n          0.9007700985702892,\n          0.9782236448230025\n        ],\n        \"semantic_type\": \"\",\n        \"description\": \"\"\n      }\n    },\n    {\n      \"column\": \"Lookalike_CustomerID_2\",\n      \"properties\": {\n        \"dtype\": \"string\",\n        \"num_unique_values\": 20,\n        \"samples\": [\n          \"C0011\",\n          \"C0059\",\n          \"C0154\"\n        ],\n        \"semantic_type\": \"\",\n        \"description\": \"\"\n      }\n    },\n    {\n      \"column\": \"Similarity_Score_2\",\n      \"properties\": {\n        \"dtype\": \"number\",\n        \"std\": 0.04387721793370377,\n        \"min\": 0.8214761289269781,\n        \"max\": 0.9941648234950216,\n        \"num_unique_values\": 18,\n        \"samples\": [\n          0.9870044203234234,\n          0.9543093152557341,\n          0.9658080894461103\n        ],\n        \"semantic_type\": \"\",\n        \"description\": \"\"\n      }\n    },\n    {\n      \"column\": \"Lookalike_CustomerID_3\",\n      \"properties\": {\n        \"dtype\": \"string\",\n        \"num_unique_values\": 18,\n        \"samples\": [\n          \"C0152\",\n          \"C0005\",\n          \"C0073\"\n        ],\n        \"semantic_type\": \"\",\n        \"description\": \"\"\n      }\n    },\n    {\n      \"column\": \"Similarity_Score_3\",\n      \"properties\": {\n        \"dtype\": \"number\",\n        \"std\": 0.04474867503924164,\n        \"min\": 0.8047900148440655,\n        \"max\": 0.9810786564109948,\n        \"num_unique_values\": 19,\n        \"samples\": [\n          0.9810786564109948,\n          0.922714506980289,\n          0.9080810897921504\n        ],\n        \"semantic_type\": \"\",\n        \"description\": \"\"\n      }\n    }\n  ]\n}",
       "type": "dataframe",
       "variable_name": "lookalike_df"
      },
      "text/html": [
       "\n",
       "  <div id=\"df-ceafd69d-dbee-4a75-b43a-5675727a4ebc\" class=\"colab-df-container\">\n",
       "    <div>\n",
       "<style scoped>\n",
       "    .dataframe tbody tr th:only-of-type {\n",
       "        vertical-align: middle;\n",
       "    }\n",
       "\n",
       "    .dataframe tbody tr th {\n",
       "        vertical-align: top;\n",
       "    }\n",
       "\n",
       "    .dataframe thead th {\n",
       "        text-align: right;\n",
       "    }\n",
       "</style>\n",
       "<table border=\"1\" class=\"dataframe\">\n",
       "  <thead>\n",
       "    <tr style=\"text-align: right;\">\n",
       "      <th></th>\n",
       "      <th>Lookalike_CustomerID_1</th>\n",
       "      <th>Similarity_Score_1</th>\n",
       "      <th>Lookalike_CustomerID_2</th>\n",
       "      <th>Similarity_Score_2</th>\n",
       "      <th>Lookalike_CustomerID_3</th>\n",
       "      <th>Similarity_Score_3</th>\n",
       "    </tr>\n",
       "  </thead>\n",
       "  <tbody>\n",
       "    <tr>\n",
       "      <th>C0001</th>\n",
       "      <td>C0174</td>\n",
       "      <td>0.988258</td>\n",
       "      <td>C0011</td>\n",
       "      <td>0.987004</td>\n",
       "      <td>C0152</td>\n",
       "      <td>0.981079</td>\n",
       "    </tr>\n",
       "    <tr>\n",
       "      <th>C0002</th>\n",
       "      <td>C0027</td>\n",
       "      <td>0.958111</td>\n",
       "      <td>C0159</td>\n",
       "      <td>0.954309</td>\n",
       "      <td>C0005</td>\n",
       "      <td>0.943368</td>\n",
       "    </tr>\n",
       "    <tr>\n",
       "      <th>C0003</th>\n",
       "      <td>C0190</td>\n",
       "      <td>0.951502</td>\n",
       "      <td>C0031</td>\n",
       "      <td>0.905475</td>\n",
       "      <td>C0076</td>\n",
       "      <td>0.903023</td>\n",
       "    </tr>\n",
       "    <tr>\n",
       "      <th>C0004</th>\n",
       "      <td>C0113</td>\n",
       "      <td>0.988197</td>\n",
       "      <td>C0102</td>\n",
       "      <td>0.970619</td>\n",
       "      <td>C0104</td>\n",
       "      <td>0.970492</td>\n",
       "    </tr>\n",
       "    <tr>\n",
       "      <th>C0005</th>\n",
       "      <td>C0159</td>\n",
       "      <td>0.997267</td>\n",
       "      <td>C0007</td>\n",
       "      <td>0.988055</td>\n",
       "      <td>C0002</td>\n",
       "      <td>0.943368</td>\n",
       "    </tr>\n",
       "  </tbody>\n",
       "</table>\n",
       "</div>\n",
       "    <div class=\"colab-df-buttons\">\n",
       "\n",
       "  <div class=\"colab-df-container\">\n",
       "    <button class=\"colab-df-convert\" onclick=\"convertToInteractive('df-ceafd69d-dbee-4a75-b43a-5675727a4ebc')\"\n",
       "            title=\"Convert this dataframe to an interactive table.\"\n",
       "            style=\"display:none;\">\n",
       "\n",
       "  <svg xmlns=\"http://www.w3.org/2000/svg\" height=\"24px\" viewBox=\"0 -960 960 960\">\n",
       "    <path d=\"M120-120v-720h720v720H120Zm60-500h600v-160H180v160Zm220 220h160v-160H400v160Zm0 220h160v-160H400v160ZM180-400h160v-160H180v160Zm440 0h160v-160H620v160ZM180-180h160v-160H180v160Zm440 0h160v-160H620v160Z\"/>\n",
       "  </svg>\n",
       "    </button>\n",
       "\n",
       "  <style>\n",
       "    .colab-df-container {\n",
       "      display:flex;\n",
       "      gap: 12px;\n",
       "    }\n",
       "\n",
       "    .colab-df-convert {\n",
       "      background-color: #E8F0FE;\n",
       "      border: none;\n",
       "      border-radius: 50%;\n",
       "      cursor: pointer;\n",
       "      display: none;\n",
       "      fill: #1967D2;\n",
       "      height: 32px;\n",
       "      padding: 0 0 0 0;\n",
       "      width: 32px;\n",
       "    }\n",
       "\n",
       "    .colab-df-convert:hover {\n",
       "      background-color: #E2EBFA;\n",
       "      box-shadow: 0px 1px 2px rgba(60, 64, 67, 0.3), 0px 1px 3px 1px rgba(60, 64, 67, 0.15);\n",
       "      fill: #174EA6;\n",
       "    }\n",
       "\n",
       "    .colab-df-buttons div {\n",
       "      margin-bottom: 4px;\n",
       "    }\n",
       "\n",
       "    [theme=dark] .colab-df-convert {\n",
       "      background-color: #3B4455;\n",
       "      fill: #D2E3FC;\n",
       "    }\n",
       "\n",
       "    [theme=dark] .colab-df-convert:hover {\n",
       "      background-color: #434B5C;\n",
       "      box-shadow: 0px 1px 3px 1px rgba(0, 0, 0, 0.15);\n",
       "      filter: drop-shadow(0px 1px 2px rgba(0, 0, 0, 0.3));\n",
       "      fill: #FFFFFF;\n",
       "    }\n",
       "  </style>\n",
       "\n",
       "    <script>\n",
       "      const buttonEl =\n",
       "        document.querySelector('#df-ceafd69d-dbee-4a75-b43a-5675727a4ebc button.colab-df-convert');\n",
       "      buttonEl.style.display =\n",
       "        google.colab.kernel.accessAllowed ? 'block' : 'none';\n",
       "\n",
       "      async function convertToInteractive(key) {\n",
       "        const element = document.querySelector('#df-ceafd69d-dbee-4a75-b43a-5675727a4ebc');\n",
       "        const dataTable =\n",
       "          await google.colab.kernel.invokeFunction('convertToInteractive',\n",
       "                                                    [key], {});\n",
       "        if (!dataTable) return;\n",
       "\n",
       "        const docLinkHtml = 'Like what you see? Visit the ' +\n",
       "          '<a target=\"_blank\" href=https://colab.research.google.com/notebooks/data_table.ipynb>data table notebook</a>'\n",
       "          + ' to learn more about interactive tables.';\n",
       "        element.innerHTML = '';\n",
       "        dataTable['output_type'] = 'display_data';\n",
       "        await google.colab.output.renderOutput(dataTable, element);\n",
       "        const docLink = document.createElement('div');\n",
       "        docLink.innerHTML = docLinkHtml;\n",
       "        element.appendChild(docLink);\n",
       "      }\n",
       "    </script>\n",
       "  </div>\n",
       "\n",
       "\n",
       "<div id=\"df-f162ea0a-6ef9-4855-8a71-18c1d7deac05\">\n",
       "  <button class=\"colab-df-quickchart\" onclick=\"quickchart('df-f162ea0a-6ef9-4855-8a71-18c1d7deac05')\"\n",
       "            title=\"Suggest charts\"\n",
       "            style=\"display:none;\">\n",
       "\n",
       "<svg xmlns=\"http://www.w3.org/2000/svg\" height=\"24px\"viewBox=\"0 0 24 24\"\n",
       "     width=\"24px\">\n",
       "    <g>\n",
       "        <path d=\"M19 3H5c-1.1 0-2 .9-2 2v14c0 1.1.9 2 2 2h14c1.1 0 2-.9 2-2V5c0-1.1-.9-2-2-2zM9 17H7v-7h2v7zm4 0h-2V7h2v10zm4 0h-2v-4h2v4z\"/>\n",
       "    </g>\n",
       "</svg>\n",
       "  </button>\n",
       "\n",
       "<style>\n",
       "  .colab-df-quickchart {\n",
       "      --bg-color: #E8F0FE;\n",
       "      --fill-color: #1967D2;\n",
       "      --hover-bg-color: #E2EBFA;\n",
       "      --hover-fill-color: #174EA6;\n",
       "      --disabled-fill-color: #AAA;\n",
       "      --disabled-bg-color: #DDD;\n",
       "  }\n",
       "\n",
       "  [theme=dark] .colab-df-quickchart {\n",
       "      --bg-color: #3B4455;\n",
       "      --fill-color: #D2E3FC;\n",
       "      --hover-bg-color: #434B5C;\n",
       "      --hover-fill-color: #FFFFFF;\n",
       "      --disabled-bg-color: #3B4455;\n",
       "      --disabled-fill-color: #666;\n",
       "  }\n",
       "\n",
       "  .colab-df-quickchart {\n",
       "    background-color: var(--bg-color);\n",
       "    border: none;\n",
       "    border-radius: 50%;\n",
       "    cursor: pointer;\n",
       "    display: none;\n",
       "    fill: var(--fill-color);\n",
       "    height: 32px;\n",
       "    padding: 0;\n",
       "    width: 32px;\n",
       "  }\n",
       "\n",
       "  .colab-df-quickchart:hover {\n",
       "    background-color: var(--hover-bg-color);\n",
       "    box-shadow: 0 1px 2px rgba(60, 64, 67, 0.3), 0 1px 3px 1px rgba(60, 64, 67, 0.15);\n",
       "    fill: var(--button-hover-fill-color);\n",
       "  }\n",
       "\n",
       "  .colab-df-quickchart-complete:disabled,\n",
       "  .colab-df-quickchart-complete:disabled:hover {\n",
       "    background-color: var(--disabled-bg-color);\n",
       "    fill: var(--disabled-fill-color);\n",
       "    box-shadow: none;\n",
       "  }\n",
       "\n",
       "  .colab-df-spinner {\n",
       "    border: 2px solid var(--fill-color);\n",
       "    border-color: transparent;\n",
       "    border-bottom-color: var(--fill-color);\n",
       "    animation:\n",
       "      spin 1s steps(1) infinite;\n",
       "  }\n",
       "\n",
       "  @keyframes spin {\n",
       "    0% {\n",
       "      border-color: transparent;\n",
       "      border-bottom-color: var(--fill-color);\n",
       "      border-left-color: var(--fill-color);\n",
       "    }\n",
       "    20% {\n",
       "      border-color: transparent;\n",
       "      border-left-color: var(--fill-color);\n",
       "      border-top-color: var(--fill-color);\n",
       "    }\n",
       "    30% {\n",
       "      border-color: transparent;\n",
       "      border-left-color: var(--fill-color);\n",
       "      border-top-color: var(--fill-color);\n",
       "      border-right-color: var(--fill-color);\n",
       "    }\n",
       "    40% {\n",
       "      border-color: transparent;\n",
       "      border-right-color: var(--fill-color);\n",
       "      border-top-color: var(--fill-color);\n",
       "    }\n",
       "    60% {\n",
       "      border-color: transparent;\n",
       "      border-right-color: var(--fill-color);\n",
       "    }\n",
       "    80% {\n",
       "      border-color: transparent;\n",
       "      border-right-color: var(--fill-color);\n",
       "      border-bottom-color: var(--fill-color);\n",
       "    }\n",
       "    90% {\n",
       "      border-color: transparent;\n",
       "      border-bottom-color: var(--fill-color);\n",
       "    }\n",
       "  }\n",
       "</style>\n",
       "\n",
       "  <script>\n",
       "    async function quickchart(key) {\n",
       "      const quickchartButtonEl =\n",
       "        document.querySelector('#' + key + ' button');\n",
       "      quickchartButtonEl.disabled = true;  // To prevent multiple clicks.\n",
       "      quickchartButtonEl.classList.add('colab-df-spinner');\n",
       "      try {\n",
       "        const charts = await google.colab.kernel.invokeFunction(\n",
       "            'suggestCharts', [key], {});\n",
       "      } catch (error) {\n",
       "        console.error('Error during call to suggestCharts:', error);\n",
       "      }\n",
       "      quickchartButtonEl.classList.remove('colab-df-spinner');\n",
       "      quickchartButtonEl.classList.add('colab-df-quickchart-complete');\n",
       "    }\n",
       "    (() => {\n",
       "      let quickchartButtonEl =\n",
       "        document.querySelector('#df-f162ea0a-6ef9-4855-8a71-18c1d7deac05 button');\n",
       "      quickchartButtonEl.style.display =\n",
       "        google.colab.kernel.accessAllowed ? 'block' : 'none';\n",
       "    })();\n",
       "  </script>\n",
       "</div>\n",
       "\n",
       "    </div>\n",
       "  </div>\n"
      ],
      "text/plain": [
       "      Lookalike_CustomerID_1  Similarity_Score_1 Lookalike_CustomerID_2  \\\n",
       "C0001                  C0174            0.988258                  C0011   \n",
       "C0002                  C0027            0.958111                  C0159   \n",
       "C0003                  C0190            0.951502                  C0031   \n",
       "C0004                  C0113            0.988197                  C0102   \n",
       "C0005                  C0159            0.997267                  C0007   \n",
       "\n",
       "       Similarity_Score_2 Lookalike_CustomerID_3  Similarity_Score_3  \n",
       "C0001            0.987004                  C0152            0.981079  \n",
       "C0002            0.954309                  C0005            0.943368  \n",
       "C0003            0.905475                  C0076            0.903023  \n",
       "C0004            0.970619                  C0104            0.970492  \n",
       "C0005            0.988055                  C0002            0.943368  "
      ]
     },
     "execution_count": 32,
     "metadata": {},
     "output_type": "execute_result"
    }
   ],
   "source": [
    "# Create the lookalike dictionary with separate columns for each lookalike\n",
    "lookalike_dict = {}\n",
    "\n",
    "for cust_id in customer_data['CustomerID'][:20]:\n",
    "    similar_customers = similarity_df[cust_id].sort_values(ascending=False).iloc[1:4]\n",
    "    # Store lookalikes and their similarity scores as separate columns\n",
    "    lookalike_dict[cust_id] = {\n",
    "        'Lookalike_CustomerID_1': similar_customers.index[0], 'Similarity_Score_1': similar_customers.values[0],\n",
    "        'Lookalike_CustomerID_2': similar_customers.index[1], 'Similarity_Score_2': similar_customers.values[1],\n",
    "        'Lookalike_CustomerID_3': similar_customers.index[2], 'Similarity_Score_3': similar_customers.values[2],\n",
    "    }\n",
    "\n",
    "# Convert the lookalike dictionary into a DataFrame\n",
    "lookalike_df = pd.DataFrame.from_dict(lookalike_dict, orient='index')\n",
    "\n",
    "# Save the results to a CSV file\n",
    "lookalike_df.to_csv('Lookalike.csv', index_label='CustomerID')\n",
    "\n",
    "lookalike_df.head()"
   ]
  },
  {
   "cell_type": "code",
   "execution_count": null,
   "metadata": {
    "id": "LHVmWuoAFF2T"
   },
   "outputs": [],
   "source": []
  }
 ],
 "metadata": {
  "colab": {
   "authorship_tag": "ABX9TyN2Z8YmssXzRUoJfm85r+Y4",
   "provenance": []
  },
  "kernelspec": {
   "display_name": "Python 3 (ipykernel)",
   "language": "python",
   "name": "python3"
  },
  "language_info": {
   "codemirror_mode": {
    "name": "ipython",
    "version": 3
   },
   "file_extension": ".py",
   "mimetype": "text/x-python",
   "name": "python",
   "nbconvert_exporter": "python",
   "pygments_lexer": "ipython3",
   "version": "3.11.5"
  }
 },
 "nbformat": 4,
 "nbformat_minor": 4
}
